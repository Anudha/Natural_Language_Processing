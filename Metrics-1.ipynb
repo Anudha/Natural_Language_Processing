{
 "cells": [
  {
   "cell_type": "code",
   "execution_count": 1,
   "metadata": {},
   "outputs": [
    {
     "name": "stderr",
     "output_type": "stream",
     "text": [
      "/Library/Frameworks/Python.framework/Versions/3.9/lib/python3.9/site-packages/sentence_transformers/cross_encoder/CrossEncoder.py:13: TqdmWarning: IProgress not found. Please update jupyter and ipywidgets. See https://ipywidgets.readthedocs.io/en/stable/user_install.html\n",
      "  from tqdm.autonotebook import tqdm, trange\n"
     ]
    },
    {
     "name": "stdout",
     "output_type": "stream",
     "text": [
      "Cosine Similarity: 0.55\n",
      "Precision: 0.00\n",
      "Recall: 0.00\n",
      "F1-Score: 0.00\n"
     ]
    },
    {
     "name": "stderr",
     "output_type": "stream",
     "text": [
      "/Library/Frameworks/Python.framework/Versions/3.9/lib/python3.9/site-packages/sklearn/metrics/_classification.py:1471: UndefinedMetricWarning: Precision is ill-defined and being set to 0.0 due to no predicted samples. Use `zero_division` parameter to control this behavior.\n",
      "  _warn_prf(average, modifier, msg_start, len(result))\n"
     ]
    }
   ],
   "source": [
    "import torch\n",
    "from sentence_transformers import SentenceTransformer, util\n",
    "from sklearn.metrics import precision_score, recall_score, f1_score\n",
    "import numpy as np\n",
    "\n",
    "# Load BERT model (use a lightweight transformer model for efficiency)\n",
    "bert_model = SentenceTransformer('all-MiniLM-L6-v2')  # Small & fast\n",
    "\n",
    "def calculate_scores(reference, response, threshold=0.7):\n",
    "    \"\"\"\n",
    "    Calculate Precision, Recall, and F1-score based on BERT embeddings.\n",
    "\n",
    "    Args:\n",
    "        reference (str): The ground truth reference response.\n",
    "        response (str): The chatbot's generated response.\n",
    "        threshold (float): Similarity threshold to consider a match.\n",
    "\n",
    "    Returns:\n",
    "        precision, recall, f1 (float): Computed Precision, Recall, and F1-score.\n",
    "    \"\"\"\n",
    "\n",
    "    # Convert sentences into BERT embeddings\n",
    "    ref_embedding = bert_model.encode(reference, convert_to_tensor=True)\n",
    "    resp_embedding = bert_model.encode(response, convert_to_tensor=True)\n",
    "\n",
    "    # Compute cosine similarity between reference and response\n",
    "    similarity_score = util.pytorch_cos_sim(ref_embedding, resp_embedding).item()\n",
    "\n",
    "    # Convert similarity into a binary classification (match or not)\n",
    "    predicted_match = 1 if similarity_score >= threshold else 0\n",
    "    actual_match = 1  # Since the reference is always a valid response\n",
    "\n",
    "    # Compute Precision, Recall, and F1-score\n",
    "    precision = precision_score([actual_match], [predicted_match])\n",
    "    recall = recall_score([actual_match], [predicted_match])\n",
    "    f1 = f1_score([actual_match], [predicted_match])\n",
    "\n",
    "    return precision, recall, f1, similarity_score\n",
    "\n",
    "# Example chatbot response evaluation\n",
    "reference_response = \"I am a virtual assistant. How can I help you?\"\n",
    "chatbot_response = \"I'm a chatbot. What do you need assistance with?\"\n",
    "\n",
    "# Compute evaluation scores\n",
    "precision, recall, f1, similarity = calculate_scores(reference_response, chatbot_response)\n",
    "\n",
    "# Print results\n",
    "print(f\"Cosine Similarity: {similarity:.2f}\")\n",
    "print(f\"Precision: {precision:.2f}\")\n",
    "print(f\"Recall: {recall:.2f}\")\n",
    "print(f\"F1-Score: {f1:.2f}\")\n"
   ]
  }
 ],
 "metadata": {
  "kernelspec": {
   "display_name": "Python 3",
   "language": "python",
   "name": "python3"
  },
  "language_info": {
   "codemirror_mode": {
    "name": "ipython",
    "version": 3
   },
   "file_extension": ".py",
   "mimetype": "text/x-python",
   "name": "python",
   "nbconvert_exporter": "python",
   "pygments_lexer": "ipython3",
   "version": "3.9.13"
  }
 },
 "nbformat": 4,
 "nbformat_minor": 2
}
